{
 "cells": [
  {
   "cell_type": "code",
   "execution_count": 3,
   "id": "99e4233f-1cce-4124-bbd5-05f0a2ae44e6",
   "metadata": {},
   "outputs": [],
   "source": [
    "import numpy as np\n",
    "import sys\n",
    "import networkx as nx\n",
    "\n",
    "import matplotlib.pyplot as plt\n",
    "\n",
    "from skimage import graph\n",
    "from skimage.transform import resize\n",
    "from skimage import img_as_bool\n",
    "from skimage.segmentation import slic\n",
    "from skimage.segmentation import mark_boundaries\n",
    "from skimage.measure import regionprops"
   ]
  },
  {
   "cell_type": "code",
   "execution_count": 4,
   "id": "c947a22e-2625-435d-9e20-34eb2e2a127e",
   "metadata": {},
   "outputs": [],
   "source": [
    "L = 800\n",
    "w = 100\n",
    "n_segment = 2300"
   ]
  },
  {
   "cell_type": "code",
   "execution_count": 5,
   "id": "d407bd64-a2ba-4353-b530-0e4aa99ed21b",
   "metadata": {},
   "outputs": [
    {
     "name": "stdout",
     "output_type": "stream",
     "text": [
      "[[[ True  True  True  True  True]\n",
      "  [False False  True  True False]\n",
      "  [False False  True  True False]\n",
      "  ...\n",
      "  [False  True  True False False]\n",
      "  [ True  True  True  True False]\n",
      "  [ True  True  True  True  True]]\n",
      "\n",
      " [[ True  True  True  True  True]\n",
      "  [False False  True  True False]\n",
      "  [False  True  True  True  True]\n",
      "  ...\n",
      "  [ True  True  True  True False]\n",
      "  [False False  True  True False]\n",
      "  [ True  True  True  True  True]]\n",
      "\n",
      " [[ True  True  True  True  True]\n",
      "  [False  True  True False False]\n",
      "  [False  True  True False False]\n",
      "  ...\n",
      "  [False  True  True False False]\n",
      "  [ True  True  True  True False]\n",
      "  [ True  True  True  True  True]]\n",
      "\n",
      " ...\n",
      "\n",
      " [[ True  True  True  True  True]\n",
      "  [False False  True  True False]\n",
      "  [False  True  True False False]\n",
      "  ...\n",
      "  [ True  True  True  True False]\n",
      "  [False False  True  True False]\n",
      "  [ True  True  True  True  True]]\n",
      "\n",
      " [[ True  True  True  True  True]\n",
      "  [False False  True  True False]\n",
      "  [ True  True  True  True False]\n",
      "  ...\n",
      "  [False  True  True  True  True]\n",
      "  [False  True  True False False]\n",
      "  [ True  True  True  True  True]]\n",
      "\n",
      " [[ True  True  True  True  True]\n",
      "  [ True  True  True  True False]\n",
      "  [ True  True  True  True False]\n",
      "  ...\n",
      "  [ True  True  True  True False]\n",
      "  [False  True  True False False]\n",
      "  [ True  True  True  True  True]]]\n"
     ]
    }
   ],
   "source": [
    "img = np.load('x.npy') # file path to array of image; change as needed to other subdatasets\n",
    "\n",
    "G_og = []\n",
    "G_rx = []\n",
    "G_ry = []\n",
    "G_rxy = []\n",
    "print(img)"
   ]
  },
  {
   "cell_type": "code",
   "execution_count": 8,
   "id": "e820c498-8a43-46c8-8701-645f957d40b5",
   "metadata": {},
   "outputs": [
    {
     "ename": "NameError",
     "evalue": "name 'num' is not defined",
     "output_type": "error",
     "traceback": [
      "\u001b[1;31m---------------------------------------------------------------------------\u001b[0m",
      "\u001b[1;31mNameError\u001b[0m                                 Traceback (most recent call last)",
      "Cell \u001b[1;32mIn[8], line 3\u001b[0m\n\u001b[0;32m      1\u001b[0m new_img \u001b[38;5;241m=\u001b[39m []\n\u001b[0;32m      2\u001b[0m \u001b[38;5;28;01mfor\u001b[39;00m ii \u001b[38;5;129;01min\u001b[39;00m \u001b[38;5;28mrange\u001b[39m(\u001b[38;5;241m0\u001b[39m,\u001b[38;5;28mlen\u001b[39m(img)): \n\u001b[1;32m----> 3\u001b[0m   new_img\u001b[38;5;241m.\u001b[39mappend(img_as_bool(resize(image \u001b[38;5;241m=\u001b[39m img[\u001b[43mnum\u001b[49m][ii],output_shape \u001b[38;5;241m=\u001b[39m (\u001b[38;5;241m800\u001b[39m,\u001b[38;5;241m100\u001b[39m),order \u001b[38;5;241m=\u001b[39m \u001b[38;5;241m0\u001b[39m))[\u001b[38;5;28mint\u001b[39m(L\u001b[38;5;241m/\u001b[39m\u001b[38;5;241m40\u001b[39m):\u001b[38;5;28mint\u001b[39m(L\u001b[38;5;241m-\u001b[39mL\u001b[38;5;241m/\u001b[39m\u001b[38;5;241m40\u001b[39m),:])\n\u001b[0;32m      4\u001b[0m img \u001b[38;5;241m=\u001b[39m new_img\n\u001b[0;32m      5\u001b[0m img\n",
      "\u001b[1;31mNameError\u001b[0m: name 'num' is not defined"
     ]
    }
   ],
   "source": [
    "new_img = []\n",
    "for ii in range(0,len(img)): \n",
    "  new_img.append(img_as_bool(resize(image = img[num][ii],output_shape = (800,100),order = 0))[int(L/40):int(L-L/40),:])\n",
    "img = new_img\n",
    "img"
   ]
  },
  {
   "cell_type": "code",
   "execution_count": null,
   "id": "ba72b8a0-bd8f-4dcf-a50e-4fff85b0505d",
   "metadata": {},
   "outputs": [],
   "source": []
  }
 ],
 "metadata": {
  "kernelspec": {
   "display_name": "Python 3 (ipykernel)",
   "language": "python",
   "name": "python3"
  },
  "language_info": {
   "codemirror_mode": {
    "name": "ipython",
    "version": 3
   },
   "file_extension": ".py",
   "mimetype": "text/x-python",
   "name": "python",
   "nbconvert_exporter": "python",
   "pygments_lexer": "ipython3",
   "version": "3.10.6"
  }
 },
 "nbformat": 4,
 "nbformat_minor": 5
}
