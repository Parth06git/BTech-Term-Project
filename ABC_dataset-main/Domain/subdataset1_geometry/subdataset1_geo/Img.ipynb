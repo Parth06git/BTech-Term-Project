{
 "cells": [
  {
   "cell_type": "code",
   "execution_count": 3,
   "id": "8b6d5794-25c4-4fa3-864b-7faf9971daa5",
   "metadata": {},
   "outputs": [],
   "source": [
    "import numpy as np\n",
    "import matplotlib.pyplot as plt"
   ]
  },
  {
   "cell_type": "code",
   "execution_count": 14,
   "id": "9d931bb1-a934-4e41-9a5c-d5bb0a2c3c37",
   "metadata": {},
   "outputs": [
    {
     "name": "stdout",
     "output_type": "stream",
     "text": [
      "[[3 3 3 ... 2 2 2]\n",
      " [2 3 3 ... 3 2 3]\n",
      " [3 2 2 ... 2 2 2]\n",
      " ...\n",
      " [2 3 2 ... 3 2 3]\n",
      " [2 3 2 ... 3 3 2]\n",
      " [3 2 2 ... 2 2 2]]\n"
     ]
    }
   ],
   "source": [
    "f_x = 'x.txt'\n",
    "f_l = 'l.txt'\n",
    "\n",
    "x = np.loadtxt(f_x, dtype = int) \n",
    "l = np.loadtxt(f_l, dtype = int)\n",
    "print(x)"
   ]
  },
  {
   "cell_type": "code",
   "execution_count": 5,
   "id": "0d7abfd9-ca72-43a3-9b46-40f2e0b6ba97",
   "metadata": {},
   "outputs": [],
   "source": [
    "L = 40 # length of column\n",
    "w = 5 # width of column"
   ]
  },
  {
   "cell_type": "code",
   "execution_count": 18,
   "id": "9059831f-a231-4e2a-b4e7-1cc6ffc229e9",
   "metadata": {},
   "outputs": [],
   "source": [
    "def img_gen(L,w,x,l,ii):\n",
    "  # L and w are coumn dimensions\n",
    "  # x and l are files to generate geometry\n",
    "  # ii  is the column number to be generated\n",
    "  x = x\n",
    "  l = l\n",
    "  img = np.zeros((L,w), dtype = bool)\n",
    "  img[0,0:w] = 1\n",
    "  img[-1,0:w] = 1\n",
    "  \n",
    "  for jj in range(1,L-1):\n",
    "    img[jj,x[ii][jj]-l[ii][jj]:x[ii][jj]+l[ii][jj]] = 1\n",
    "  \n",
    "  return img"
   ]
  },
  {
   "cell_type": "code",
   "execution_count": 19,
   "id": "dc50fdba-0c1e-4b5c-bcb6-30054702cd84",
   "metadata": {},
   "outputs": [
    {
     "name": "stdout",
     "output_type": "stream",
     "text": [
      "25000\n"
     ]
    }
   ],
   "source": [
    "print(x.shape[0])\n",
    "img = []\n",
    "for ii in range(0,x.shape[0]):\n",
    "  img.append(img_gen(L,w,x,l,ii))"
   ]
  },
  {
   "cell_type": "code",
   "execution_count": 22,
   "id": "f6446b19-3de4-4143-b4dc-4a5920de80da",
   "metadata": {},
   "outputs": [
    {
     "name": "stdout",
     "output_type": "stream",
     "text": [
      "[[[ True  True  True  True  True]\n",
      "  [False False  True  True False]\n",
      "  [False False  True  True False]\n",
      "  ...\n",
      "  [False  True  True False False]\n",
      "  [ True  True  True  True False]\n",
      "  [ True  True  True  True  True]]\n",
      "\n",
      " [[ True  True  True  True  True]\n",
      "  [False False  True  True False]\n",
      "  [False  True  True  True  True]\n",
      "  ...\n",
      "  [ True  True  True  True False]\n",
      "  [False False  True  True False]\n",
      "  [ True  True  True  True  True]]\n",
      "\n",
      " [[ True  True  True  True  True]\n",
      "  [False  True  True False False]\n",
      "  [False  True  True False False]\n",
      "  ...\n",
      "  [False  True  True False False]\n",
      "  [ True  True  True  True False]\n",
      "  [ True  True  True  True  True]]\n",
      "\n",
      " ...\n",
      "\n",
      " [[ True  True  True  True  True]\n",
      "  [False False  True  True False]\n",
      "  [False  True  True False False]\n",
      "  ...\n",
      "  [ True  True  True  True False]\n",
      "  [False False  True  True False]\n",
      "  [ True  True  True  True  True]]\n",
      "\n",
      " [[ True  True  True  True  True]\n",
      "  [False False  True  True False]\n",
      "  [ True  True  True  True False]\n",
      "  ...\n",
      "  [False  True  True  True  True]\n",
      "  [False  True  True False False]\n",
      "  [ True  True  True  True  True]]\n",
      "\n",
      " [[ True  True  True  True  True]\n",
      "  [ True  True  True  True False]\n",
      "  [ True  True  True  True False]\n",
      "  ...\n",
      "  [ True  True  True  True False]\n",
      "  [False  True  True False False]\n",
      "  [ True  True  True  True  True]]]\n"
     ]
    }
   ],
   "source": [
    "img = np.asarray(img)\n",
    "print(img)\n",
    "np.save('x.npy',img)"
   ]
  },
  {
   "cell_type": "code",
   "execution_count": 23,
   "id": "f427c71d-a596-4ad8-a716-c6bd34042e3c",
   "metadata": {},
   "outputs": [
    {
     "name": "stdout",
     "output_type": "stream",
     "text": [
      "25000\n"
     ]
    }
   ],
   "source": [
    "print(l.shape[0])\n",
    "img = []\n",
    "for ii in range(0,l.shape[0]):\n",
    "  img.append(img_gen(L,w,x,l,ii))"
   ]
  },
  {
   "cell_type": "code",
   "execution_count": 25,
   "id": "80428e19-3667-4474-a3ee-aed1208e73cc",
   "metadata": {},
   "outputs": [
    {
     "name": "stdout",
     "output_type": "stream",
     "text": [
      "[[[ True  True  True  True  True]\n",
      "  [False False  True  True False]\n",
      "  [False False  True  True False]\n",
      "  ...\n",
      "  [False  True  True False False]\n",
      "  [ True  True  True  True False]\n",
      "  [ True  True  True  True  True]]\n",
      "\n",
      " [[ True  True  True  True  True]\n",
      "  [False False  True  True False]\n",
      "  [False  True  True  True  True]\n",
      "  ...\n",
      "  [ True  True  True  True False]\n",
      "  [False False  True  True False]\n",
      "  [ True  True  True  True  True]]\n",
      "\n",
      " [[ True  True  True  True  True]\n",
      "  [False  True  True False False]\n",
      "  [False  True  True False False]\n",
      "  ...\n",
      "  [False  True  True False False]\n",
      "  [ True  True  True  True False]\n",
      "  [ True  True  True  True  True]]\n",
      "\n",
      " ...\n",
      "\n",
      " [[ True  True  True  True  True]\n",
      "  [False False  True  True False]\n",
      "  [False  True  True False False]\n",
      "  ...\n",
      "  [ True  True  True  True False]\n",
      "  [False False  True  True False]\n",
      "  [ True  True  True  True  True]]\n",
      "\n",
      " [[ True  True  True  True  True]\n",
      "  [False False  True  True False]\n",
      "  [ True  True  True  True False]\n",
      "  ...\n",
      "  [False  True  True  True  True]\n",
      "  [False  True  True False False]\n",
      "  [ True  True  True  True  True]]\n",
      "\n",
      " [[ True  True  True  True  True]\n",
      "  [ True  True  True  True False]\n",
      "  [ True  True  True  True False]\n",
      "  ...\n",
      "  [ True  True  True  True False]\n",
      "  [False  True  True False False]\n",
      "  [ True  True  True  True  True]]]\n"
     ]
    }
   ],
   "source": [
    "img = np.asarray(img)\n",
    "print(img)\n",
    "np.save('l.npy',img)"
   ]
  },
  {
   "cell_type": "code",
   "execution_count": null,
   "id": "64cce3af-9019-4423-ad7a-c9ab37fcca54",
   "metadata": {},
   "outputs": [],
   "source": []
  }
 ],
 "metadata": {
  "kernelspec": {
   "display_name": "Python 3 (ipykernel)",
   "language": "python",
   "name": "python3"
  },
  "language_info": {
   "codemirror_mode": {
    "name": "ipython",
    "version": 3
   },
   "file_extension": ".py",
   "mimetype": "text/x-python",
   "name": "python",
   "nbconvert_exporter": "python",
   "pygments_lexer": "ipython3",
   "version": "3.10.6"
  }
 },
 "nbformat": 4,
 "nbformat_minor": 5
}
